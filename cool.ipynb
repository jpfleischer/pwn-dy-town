{
 "cells": [
  {
   "cell_type": "code",
   "execution_count": 1,
   "metadata": {},
   "outputs": [],
   "source": [
    "from selenium import webdriver\n",
    "import json\n",
    "import time\n",
    "\n",
    "# Load saved cookies from the JSON file\n",
    "with open('cookies.json', 'r') as file:\n",
    "    cookies = json.load(file)\n",
    "\n",
    "# Start a new Firefox WebDriver session\n",
    "driver = webdriver.Firefox()\n",
    "\n",
    "# Open the base domain (needed to add cookies)\n",
    "driver.get('https://pony.town')\n",
    "\n",
    "# Add the cookies to the current session\n",
    "for cookie in cookies:\n",
    "    if 'sameSite' in cookie and cookie['sameSite'] not in [\"Strict\", \"Lax\", \"None\"]:\n",
    "        cookie['sameSite'] = 'None'  # Adjust 'sameSite' attribute if necessary\n",
    "    try:\n",
    "        driver.add_cookie(cookie)\n",
    "    except Exception as e:\n",
    "        print(f\"Error adding cookie: {cookie['name']}, {e}\")\n",
    "\n",
    "# Navigate to the specific page (search query)\n",
    "driver.get('https://pony.town/')\n",
    "\n",
    "# Allow time for the page to load and the session to activate\n",
    "time.sleep(20)\n",
    "\n",
    "# Scroll down the page\n",
    "driver.execute_script(\"window.scrollTo(0, document.body.scrollHeight);\")\n",
    "\n",
    "# Allow time for the page to load additional content\n",
    "time.sleep(5)\n",
    "\n",
    "# Save the HTML content to a file\n",
    "html_content = driver.page_source\n",
    "with open('page_content.html', 'w', encoding='utf-8') as file:\n",
    "    file.write(html_content)\n",
    "\n",
    "# Take a screenshot as proof of session reuse\n",
    "driver.save_screenshot('session_with_cookies.png')\n",
    "\n",
    "# Quit the browser\n",
    "driver.quit()"
   ]
  },
  {
   "cell_type": "code",
   "execution_count": null,
   "metadata": {},
   "outputs": [],
   "source": []
  }
 ],
 "metadata": {
  "kernelspec": {
   "display_name": "Python 3",
   "language": "python",
   "name": "python3"
  },
  "language_info": {
   "codemirror_mode": {
    "name": "ipython",
    "version": 3
   },
   "file_extension": ".py",
   "mimetype": "text/x-python",
   "name": "python",
   "nbconvert_exporter": "python",
   "pygments_lexer": "ipython3",
   "version": "3.12.6"
  }
 },
 "nbformat": 4,
 "nbformat_minor": 2
}
